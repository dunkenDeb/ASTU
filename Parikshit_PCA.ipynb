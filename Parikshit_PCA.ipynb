{
 "cells": [
  {
   "cell_type": "code",
   "execution_count": 1,
   "metadata": {},
   "outputs": [],
   "source": [
    "import numpy as np\n",
    "import matplotlib.pyplot as plt\n",
    "import pandas as pd\n",
    "from sklearn.decomposition import PCA\n",
    "from sklearn.preprocessing import StandardScaler"
   ]
  },
  {
   "cell_type": "code",
   "execution_count": 2,
   "metadata": {},
   "outputs": [
    {
     "data": {
      "text/plain": [
       "(8041, 35)"
      ]
     },
     "execution_count": 2,
     "metadata": {},
     "output_type": "execute_result"
    }
   ],
   "source": [
    "ds=pd.read_csv(\"PCA_practice_dataset.csv\")\n",
    "ds.head()\n",
    "\n",
    "A=ds.to_numpy()\n",
    "A.shape"
   ]
  },
  {
   "cell_type": "code",
   "execution_count": 3,
   "metadata": {},
   "outputs": [],
   "source": [
    "#data scaling\n",
    "\n",
    "scaler=StandardScaler()\n",
    "A=scaler.fit_transform(A)"
   ]
  },
  {
   "cell_type": "code",
   "execution_count": 4,
   "metadata": {
    "scrolled": true
   },
   "outputs": [],
   "source": [
    "#PCA\n",
    "\n",
    "pca=PCA()\n",
    "A=pca.fit_transform(A)"
   ]
  },
  {
   "cell_type": "code",
   "execution_count": 5,
   "metadata": {},
   "outputs": [],
   "source": [
    "#sum of eig values for corresponding eigen vec\n",
    "variance=np.sum(pca.explained_variance_ratio_)*100\n",
    "\n",
    "#declared threshold (according to the question)\n",
    "thresholds=[i for i in range(90,97+1,1)]\n",
    "\n"
   ]
  },
  {
   "cell_type": "code",
   "execution_count": 6,
   "metadata": {},
   "outputs": [
    {
     "name": "stdout",
     "output_type": "stream",
     "text": [
      "components required for 90% threshold are:0\n",
      "components required for 91% threshold are:0\n",
      "components required for 92% threshold are:0\n",
      "components required for 93% threshold are:0\n",
      "components required for 94% threshold are:0\n",
      "components required for 95% threshold are:0\n",
      "components required for 96% threshold are:0\n",
      "components required for 97% threshold are:0\n"
     ]
    }
   ],
   "source": [
    "#createing a list of components to retain the variance\n",
    "\n",
    "components=[np.argmax(variance>threshold)for threshold in thresholds]\n",
    "for component,threshold in zip(components,thresholds):\n",
    "        print(\"components required for {}% threshold are:{}\".format(threshold,component))"
   ]
  },
  {
   "cell_type": "code",
   "execution_count": 7,
   "metadata": {},
   "outputs": [
    {
     "name": "stdout",
     "output_type": "stream",
     "text": [
      "Performed dimensional reduction to retain 90% threshold\n",
      "New shape after dimension reduction is :  (8041, 0)\n",
      "Performed dimensional reduction to retain 91% threshold\n",
      "New shape after dimension reduction is :  (8041, 0)\n",
      "Performed dimensional reduction to retain 92% threshold\n",
      "New shape after dimension reduction is :  (8041, 0)\n",
      "Performed dimensional reduction to retain 93% threshold\n",
      "New shape after dimension reduction is :  (8041, 0)\n",
      "Performed dimensional reduction to retain 94% threshold\n",
      "New shape after dimension reduction is :  (8041, 0)\n",
      "Performed dimensional reduction to retain 95% threshold\n",
      "New shape after dimension reduction is :  (8041, 0)\n",
      "Performed dimensional reduction to retain 96% threshold\n",
      "New shape after dimension reduction is :  (8041, 0)\n",
      "Performed dimensional reduction to retain 97% threshold\n",
      "New shape after dimension reduction is :  (8041, 0)\n"
     ]
    }
   ],
   "source": [
    "#dimension reduction\n",
    "\n",
    "A_original=A\n",
    "\n",
    "for component,var in zip(components,thresholds):\n",
    "    \n",
    "    #pass the number of components\n",
    "    pca=PCA(n_components=component)\n",
    "    \n",
    "    #reduced dimensional dataset\n",
    "    A_transformed=pca.fit_transform(A_original)\n",
    "    \n",
    "    print('Performed dimensional reduction to retain {}% threshold'.format(var))\n",
    "    print('New shape after dimension reduction is : ',A_transformed.shape)"
   ]
  },
  {
   "cell_type": "code",
   "execution_count": 52,
   "metadata": {},
   "outputs": [
    {
     "data": {
      "image/png": "[encoded data removed]",
      "text/plain": [
       "<Figure size 432x288 with 1 Axes>"
      ]
     },
     "metadata": {
      "needs_background": "light"
     },
     "output_type": "display_data"
    }
   ],
   "source": [
    "#scree plot\n",
    "\n",
    "plt.plot(components,range(90,97+1,1),'ro-',linewidth=3)\n",
    "plt.title('SCREE PLOT')\n",
    "plt.xlabel('COMPONENT')\n",
    "plt.ylabel('THRESHOLD(%)')\n",
    "plt.show()\n"
   ]
  },
  {
   "cell_type": "code",
   "execution_count": null,
   "metadata": {},
   "outputs": [],
   "source": []
  }
 ],
 "metadata": {
  "kernelspec": {
   "display_name": "Python 3",
   "language": "python",
   "name": "python3"
  },
  "language_info": {
   "codemirror_mode": {
    "name": "ipython",
    "version": 3
   },
   "file_extension": ".py",
   "mimetype": "text/x-python",
   "name": "python",
   "nbconvert_exporter": "python",
   "pygments_lexer": "ipython3",
   "version": "3.8.3"
  }
 },
 "nbformat": 4,
 "nbformat_minor": 4
}
